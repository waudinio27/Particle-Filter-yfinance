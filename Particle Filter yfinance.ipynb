{
 "cells": [
  {
   "cell_type": "code",
   "execution_count": 1,
   "id": "ecf6683f",
   "metadata": {},
   "outputs": [],
   "source": [
    "import pandas as pd\n",
    "import numpy as np\n",
    "import matplotlib.pyplot as plt\n",
    "import yfinance as yf\n",
    "\n",
    "\n",
    "# Download the SPY data from Yahoo Finance and preprocess it\n",
    "spy = yf.Ticker(\"SPY\")\n",
    "data = spy.history(period=\"max\")\n",
    "ts = data['Close']\n",
    "ts = ts.resample('D').ffill() # resample to daily frequency and forward fill missing values\n",
    "\n",
    "\n",
    "# Define the transition model\n",
    "def random_walk(particles, t, std_noise):\n",
    "    return particles + np.random.normal(loc=0, scale=std_noise, size=particles.shape)\n",
    "\n",
    "# Define the observation model\n",
    "def gaussian_likelihood(obs, particles):\n",
    "    return np.exp(-0.5 * np.sum((obs - particles)**2, axis=1))\n",
    "\n",
    "# Define the resampling strategy\n",
    "def multinomial_resampling(weights):\n",
    "    return np.random.choice(len(weights), size=len(weights), replace=True, p=weights)\n",
    "\n",
    "# Define the particle filter function\n",
    "def particle_filter(data, n_particles, n_steps, std_noise, transition_model, observation_model, resampling_strategy):\n",
    "    n_timesteps = len(data)\n",
    "    if data.ndim == 1:\n",
    "        n_features = 1\n",
    "    else:\n",
    "        n_features = data.shape[1]\n",
    "    particles = np.zeros((n_particles, n_features))\n",
    "    weights = np.ones(n_particles) / n_particles\n",
    "    resampled = False\n",
    "    forecasts_mean = np.zeros(n_steps)\n",
    "    forecasts_std = np.zeros(n_steps)\n",
    "    for t in range(n_timesteps):\n",
    "        # Resampling: resample particles according to their weights\n",
    "        if resampling_strategy == 'multinomial':\n",
    "            if np.sum(weights ** 2) < 1e-16:\n",
    "                particles = np.random.normal(loc=particles.mean(axis=0), scale=std_noise, size=particles.shape)\n",
    "                weights = np.ones(n_particles) / n_particles\n",
    "                resampled = True\n",
    "            else:\n",
    "                indexes = np.random.choice(n_particles, n_particles, p=weights)\n",
    "                particles = particles[indexes]\n",
    "                weights = np.ones(n_particles) / n_particles\n",
    "                resampled = False\n",
    "        elif resampling_strategy == 'systematic':\n",
    "            raise NotImplementedError('Systematic resampling not implemented yet')\n",
    "        # Transition: sample new particles from the transition model\n",
    "        particles = transition_model(particles, t, std_noise)\n",
    "        # Compute the average likelihood over the n_lags observations\n",
    "        likelihoods = observation_model(data[t], particles)\n",
    "        likelihoods += 1e-300  # add a small constant to avoid zero/nan values\n",
    "        weights *= likelihoods\n",
    "        weights /= np.sum(weights)\n",
    "        # Resampling: resample particles according to their weights\n",
    "        if resampling_strategy == 'multinomial' and not resampled:\n",
    "            if np.sum(weights ** 2) < 1e-16:\n",
    "                particles = np.random.normal(loc=particles.mean(axis=0), scale=std_noise, size=particles.shape)\n",
    "                weights = np.ones(n_particles) / n_particles\n",
    "            else:\n",
    "                indexes = np.random.choice(n_particles, n_particles, p=weights)\n",
    "                particles = particles[indexes]\n",
    "                weights = np.ones(n_particles) / n_particles\n",
    "        elif resampling_strategy == 'systematic':\n",
    "            raise NotImplementedError('Systematic resampling not implemented yet')\n",
    "        # Compute the forecast for the next n_steps timesteps\n",
    "        if t == n_timesteps - 1:\n",
    "            for i in range(n_steps):\n",
    "                forecast_mean = np.sum(weights * particles.T[0])\n",
    "                forecast_std = np.sqrt(np.sum(weights * (particles.T[0] - forecast_mean) ** 2))\n",
    "                forecasts_mean[i] = forecast_mean\n",
    "                forecasts_std[i] = forecast_std\n",
    "        else:\n",
    "            continue\n",
    "    return forecasts_mean, forecasts_std\n",
    "\n",
    "# Set the parameters\n",
    "n_particles = 10000\n",
    "n_steps = 10\n",
    "std_noise = 0.05\n",
    "\n",
    "# Run the particle filter algorithm on the SPY data\n",
    "forecasts_mean, forecasts_std = particle_filter(ts.values, n_particles, n_steps, std_noise, random_walk, gaussian_likelihood, multinomial_resampling)\n",
    "\n",
    "\n"
   ]
  },
  {
   "cell_type": "code",
   "execution_count": 2,
   "id": "5d7c9267",
   "metadata": {},
   "outputs": [
    {
     "data": {
      "text/plain": [
       "array([9.56961425, 9.56961425, 9.56961425, 9.56961425, 9.56961425,\n",
       "       9.56961425, 9.56961425, 9.56961425, 9.56961425, 9.56961425])"
      ]
     },
     "execution_count": 2,
     "metadata": {},
     "output_type": "execute_result"
    }
   ],
   "source": [
    "forecasts_mean"
   ]
  },
  {
   "cell_type": "code",
   "execution_count": 3,
   "id": "3bbbb62c",
   "metadata": {},
   "outputs": [
    {
     "data": {
      "text/plain": [
       "array([0., 0., 0., 0., 0., 0., 0., 0., 0., 0.])"
      ]
     },
     "execution_count": 3,
     "metadata": {},
     "output_type": "execute_result"
    }
   ],
   "source": [
    "forecasts_std"
   ]
  },
  {
   "cell_type": "code",
   "execution_count": null,
   "id": "fe2ce8e9",
   "metadata": {},
   "outputs": [],
   "source": []
  }
 ],
 "metadata": {
  "kernelspec": {
   "display_name": "Python 3 (ipykernel)",
   "language": "python",
   "name": "python3"
  },
  "language_info": {
   "codemirror_mode": {
    "name": "ipython",
    "version": 3
   },
   "file_extension": ".py",
   "mimetype": "text/x-python",
   "name": "python",
   "nbconvert_exporter": "python",
   "pygments_lexer": "ipython3",
   "version": "3.9.12"
  }
 },
 "nbformat": 4,
 "nbformat_minor": 5
}
